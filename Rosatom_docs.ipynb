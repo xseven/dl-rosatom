{
 "cells": [
  {
   "cell_type": "markdown",
   "metadata": {},
   "source": [
    "## Ввод датасета/нашей документации"
   ]
  },
  {
   "cell_type": "code",
   "execution_count": 1,
   "metadata": {},
   "outputs": [],
   "source": [
    "from striprtf.striprtf import rtf_to_text\n",
    "import os\n",
    "from nltk.tokenize import LineTokenizer\n",
    "import pandas as pd\n",
    "#import json"
   ]
  },
  {
   "cell_type": "code",
   "execution_count": 2,
   "metadata": {},
   "outputs": [],
   "source": [
    "myPath=\"./docs/\""
   ]
  },
  {
   "cell_type": "code",
   "execution_count": 3,
   "metadata": {},
   "outputs": [],
   "source": [
    "ltokenizer=LineTokenizer()"
   ]
  },
  {
   "cell_type": "code",
   "execution_count": 4,
   "metadata": {},
   "outputs": [],
   "source": [
    "def get_rtf_names(loc_path):\n",
    "    rtf_names=[]\n",
    "    names=os.listdir(path=loc_path)\n",
    "    for name in names:\n",
    "        if \".rtf\" in name:\n",
    "            rtf_names.append(loc_path+name)\n",
    "    return rtf_names"
   ]
  },
  {
   "cell_type": "code",
   "execution_count": null,
   "metadata": {},
   "outputs": [],
   "source": []
  },
  {
   "cell_type": "code",
   "execution_count": 5,
   "metadata": {},
   "outputs": [],
   "source": [
    "def get_text_doc(fname):\n",
    "    file=open(fname, 'r')\n",
    "    rtfdoc=file.read()\n",
    "    document=rtf_to_text(rtfdoc)\n",
    "    return document"
   ]
  },
  {
   "cell_type": "code",
   "execution_count": 6,
   "metadata": {},
   "outputs": [],
   "source": [
    "def parse_hd(document, tokenizer=ltokenizer):\n",
    "    lines=tokenizer.tokenize(document)\n",
    "    tok_head=\"Должностная инструкция\"\n",
    "    i_head=0\n",
    "    cnt=0\n",
    "    for l in lines:\n",
    "        if tok_head in l:\n",
    "            i_head=cnt\n",
    "            break\n",
    "        cnt+=1\n",
    "    hline=lines[i_head]\n",
    "    \n",
    "    +lines[i_head+1]\n",
    "    return hline, lines"
   ]
  },
  {
   "cell_type": "code",
   "execution_count": 7,
   "metadata": {},
   "outputs": [],
   "source": [
    "def get_data_text_pd(paragraph_breaker=ltokenizer):\n",
    "    rtf_names=get_rtf_names(myPath)\n",
    "    #rtf_names=[\"./docs/005.rtf\", \"./docs/006.rtf\"]\n",
    "    df=pd.DataFrame(index=range(0,len(rtf_names)), columns=[\"Position\", \"Text\",\"File name\"])\n",
    "    cnt=0\n",
    "    for name in rtf_names:\n",
    "        document=get_text_doc(name)\n",
    "        hline, lines=parse_hd(document,tokenizer=paragraph_breaker)\n",
    "        df.iloc[cnt, 0]=hline\n",
    "        df.iloc[cnt, 1]=lines\n",
    "        df.iloc[cnt, 2]=name\n",
    "        cnt+=1\n",
    "    return df"
   ]
  },
  {
   "cell_type": "code",
   "execution_count": 8,
   "metadata": {},
   "outputs": [],
   "source": [
    "all_data=get_data_text_pd()"
   ]
  },
  {
   "cell_type": "code",
   "execution_count": 110,
   "metadata": {},
   "outputs": [
    {
     "data": {
      "text/plain": [
       "'Наименование документа|ИНСТРУКЦИЯ \"АГЕНТА ПО РОЗЫСКУ ГРУЗОВ И БАГАЖА\"|'"
      ]
     },
     "execution_count": 110,
     "metadata": {},
     "output_type": "execute_result"
    }
   ],
   "source": [
    "#a=all_data.loc[3,\"Text\"][0]\n",
    "#a"
   ]
  },
  {
   "cell_type": "code",
   "execution_count": 9,
   "metadata": {},
   "outputs": [],
   "source": [
    "def dump_json(data,local_path=\"./docs/\"):\n",
    "    short_data=pd.DataFrame(index=all_data.index, columns=[\"id\", \"Position\", \"path\"])\n",
    "    short_data[\"id\"]=all_data.index.copy(deep=True)\n",
    "    short_data[\"Position\"]=all_data.Position.copy(deep=True)\n",
    "    short_data[\"path\"]=all_data[\"File name\"].copy(deep=True)\n",
    "    short_data.to_json(path_or_buf=local_path+\"gen_table.json\", orient='records')"
   ]
  },
  {
   "cell_type": "code",
   "execution_count": 10,
   "metadata": {},
   "outputs": [],
   "source": [
    "dump_json(all_data)"
   ]
  },
  {
   "cell_type": "code",
   "execution_count": 11,
   "metadata": {},
   "outputs": [],
   "source": [
    "def prepare_text(init_text, tokenizer, stop_words, morpher):\n",
    "    init_text=init_text.lower()\n",
    "    tokens=tokenizer.tokenize(init_text)\n",
    "    tokens_clear=[]\n",
    "    for t in tokens:\n",
    "        if t in stop_words:\n",
    "            continue\n",
    "        tokens_clear.append(t)\n",
    "    tokens_lemmatized=[]\n",
    "    for t in tokens_clear:\n",
    "        p = morph.parse(t)[0]\n",
    "        p=p.normal_form\n",
    "        tokens_lemmatized.append(p)\n",
    "    return tokens_lemmatized"
   ]
  },
  {
   "cell_type": "markdown",
   "metadata": {},
   "source": [
    "def parse_instruction(document, tokenizer=ltokenizer):\n",
    "    lines=tokenizer.tokenize(document)\n",
    "    tok_begin=\"Должностные обязанности\"\n",
    "    tok_end=\"Права\"\n",
    "    i_begin=0\n",
    "    i_end=0\n",
    "    cnt=0\n",
    "    for l in lines:\n",
    "        if tok_begin in l:\n",
    "            i_begin=cnt+1\n",
    "        if tok_end in l:\n",
    "            i_end=cnt\n",
    "        cnt+=1\n",
    "    hline=lines[i_begin]\n",
    "    main_cont=lines[i_begin+1:i_end]\n",
    "    the_rest=lines[0:i_begin]+lines[i_end+1:-1]\n",
    "    return hline, main_cont, the_rest"
   ]
  },
  {
   "cell_type": "markdown",
   "metadata": {},
   "source": [
    "## Готовим инструменты"
   ]
  },
  {
   "cell_type": "code",
   "execution_count": 12,
   "metadata": {},
   "outputs": [],
   "source": [
    "import re\n",
    "import logging\n",
    "\n",
    "import gensim.downloader as api\n",
    "#import nltk\n",
    "from nltk.corpus import stopwords\n",
    "#from nltk.stem.wordnet import WordNetLemmatizer\n",
    "from nltk.tokenize import RegexpTokenizer\n",
    "\n",
    "import pymorphy2\n",
    "\n",
    "#from nltk import pos_tag_sents\n",
    "#from nltk.tokenize import word_tokenize\n",
    "#nltk.download('punkt')\n",
    "#nltk_download('averaged_perceptron_tagger_ru')\n",
    "#nltk.download('universal_tagset')\n",
    "#pos_tag_sents(word_tokenize(\"настоящей должностной инструкцией\"), tagset='universal',lang='rus')"
   ]
  },
  {
   "cell_type": "markdown",
   "metadata": {},
   "source": [
    "## Подключаем gensim и загружаем векторную модель слов (уже готовую, model.model)"
   ]
  },
  {
   "cell_type": "code",
   "execution_count": 13,
   "metadata": {},
   "outputs": [],
   "source": [
    "import gensim"
   ]
  },
  {
   "cell_type": "code",
   "execution_count": 14,
   "metadata": {},
   "outputs": [],
   "source": [
    "#logging.basicConfig(format=\"%(levelname)s - %(asctime)s: %(message)s\", datefmt= '%H:%M:%S', level=logging.INFO)"
   ]
  },
  {
   "cell_type": "code",
   "execution_count": 15,
   "metadata": {},
   "outputs": [],
   "source": [
    "api.BASE_DIR='.\\\\docs\\\\model\\\\' #myPath+'model/' #C:\\\\Users\\\\Home\\\\gensim-data\\\\'"
   ]
  },
  {
   "cell_type": "code",
   "execution_count": 16,
   "metadata": {},
   "outputs": [
    {
     "data": {
      "text/plain": [
       "'.\\\\docs\\\\model\\\\'"
      ]
     },
     "execution_count": 16,
     "metadata": {},
     "output_type": "execute_result"
    }
   ],
   "source": [
    "api.BASE_DIR"
   ]
  },
  {
   "cell_type": "code",
   "execution_count": 17,
   "metadata": {},
   "outputs": [],
   "source": [
    "#model=api.load(\"word2vec-ruscorpora-300\")"
   ]
  },
  {
   "cell_type": "code",
   "execution_count": 18,
   "metadata": {},
   "outputs": [],
   "source": [
    "mod_path=os.getcwd()"
   ]
  },
  {
   "cell_type": "code",
   "execution_count": 19,
   "metadata": {},
   "outputs": [],
   "source": [
    "mod_path=os.getcwd()+'\\\\docs\\\\model\\\\model.model'"
   ]
  },
  {
   "cell_type": "code",
   "execution_count": 20,
   "metadata": {},
   "outputs": [
    {
     "data": {
      "text/plain": [
       "'C:\\\\Users\\\\Home\\\\dl-rosatom\\\\docs\\\\model\\\\model.model'"
      ]
     },
     "execution_count": 20,
     "metadata": {},
     "output_type": "execute_result"
    }
   ],
   "source": [
    "mod_path"
   ]
  },
  {
   "cell_type": "code",
   "execution_count": 21,
   "metadata": {},
   "outputs": [],
   "source": [
    "md=gensim.models.KeyedVectors.load(mod_path) #(\"C:\\\\Users\\\\Home\\\\gensim-data\\\\model.model\") #C:\\\\Users\\\\Home\\\\gensim-data\\\\model.model"
   ]
  },
  {
   "cell_type": "markdown",
   "metadata": {},
   "source": [
    "## Получаем входной текст и предобрабатываем его: леммтизация, токенизация, выкидывание стоп-слов, частых/редких слов"
   ]
  },
  {
   "cell_type": "code",
   "execution_count": 22,
   "metadata": {},
   "outputs": [],
   "source": [
    "import sys"
   ]
  },
  {
   "cell_type": "code",
   "execution_count": 23,
   "metadata": {},
   "outputs": [],
   "source": [
    "if len(sys.argv)>3:\n",
    "    hdr=sys.argv[1]\n",
    "    init_text=hdr+sys.argv[2]+sys.argv[3]\n",
    "else:\n",
    "    hdr=\"Электрик\"\n",
    "    init_text=\"службы начальника производства испытания устройств и электротехнических измерений монтаж сетей электрообородования\""
   ]
  },
  {
   "cell_type": "code",
   "execution_count": 24,
   "metadata": {},
   "outputs": [],
   "source": [
    "#hdr=\"Генеральный директор\"\n",
    "#init_text=\"Администрация, руководство персоналом, работа с документами\""
   ]
  },
  {
   "cell_type": "code",
   "execution_count": 25,
   "metadata": {},
   "outputs": [],
   "source": [
    "stop_words = stopwords.words('russian')"
   ]
  },
  {
   "cell_type": "markdown",
   "metadata": {},
   "source": [
    "### Разбиваем текст на отдельные токены (здесь, по сути, на слова)"
   ]
  },
  {
   "cell_type": "code",
   "execution_count": 26,
   "metadata": {},
   "outputs": [],
   "source": [
    "tokenizer = RegexpTokenizer('\\w+|[^\\w\\s]+\\.') # с паттернами сложно, надо отрегулировать #'\\w+|[^\\w\\s]+'"
   ]
  },
  {
   "cell_type": "code",
   "execution_count": 27,
   "metadata": {},
   "outputs": [],
   "source": [
    "morph = pymorphy2.MorphAnalyzer()"
   ]
  },
  {
   "cell_type": "code",
   "execution_count": 28,
   "metadata": {},
   "outputs": [],
   "source": [
    "tokens_lemmatized=prepare_text(init_text, tokenizer, stop_words, morph)"
   ]
  },
  {
   "cell_type": "markdown",
   "metadata": {},
   "source": [
    "## Получаем входную базу текста"
   ]
  },
  {
   "cell_type": "code",
   "execution_count": 29,
   "metadata": {},
   "outputs": [],
   "source": [
    "#headers, data_text, the_rest=get_data_text()\n",
    "# pd.DataFrame - all_data"
   ]
  },
  {
   "cell_type": "markdown",
   "metadata": {},
   "source": [
    "## Получаем рекомендуемый текст и заголовки"
   ]
  },
  {
   "cell_type": "markdown",
   "metadata": {},
   "source": [
    "### Сначала - топ рекомендуемых документов, выбранных по заголовкам"
   ]
  },
  {
   "cell_type": "code",
   "execution_count": 30,
   "metadata": {},
   "outputs": [],
   "source": [
    "def rem_token(lst,token):\n",
    "    n=lst.count(token)\n",
    "    if n>0:\n",
    "        lst.remove(token)\n",
    "        rem_token(lst,token)\n",
    "    else:\n",
    "        return"
   ]
  },
  {
   "cell_type": "code",
   "execution_count": 31,
   "metadata": {},
   "outputs": [],
   "source": [
    "def get_top_docs(hdr, data, REtokenizer, stop_words, morpher, model, n=5):\n",
    "    hdr_lemmatized=prepare_text(hdr, REtokenizer, stop_words, morpher)\n",
    "    cnt=0\n",
    "    header_sim=[]\n",
    "    token1=\"должностной\"\n",
    "    token2=\"инструкция\"\n",
    "    for i in range(0,data.shape[0]):\n",
    "        position=data.loc[i,\"Position\"]\n",
    "        pos_lemmatized=prepare_text(position, REtokenizer, stop_words, morpher)\n",
    "        rem_token(pos_lemmatized,token1)\n",
    "        rem_token(pos_lemmatized,token2)\n",
    "        hsim=model.n_similarity(hdr_lemmatized, pos_lemmatized)\n",
    "        header_sim.append((hsim,i))\n",
    "    header_sim.sort(reverse=True)\n",
    "    top_docs=[]\n",
    "    if n>len(header_sim):\n",
    "        n=len(header_sim)\n",
    "    for i in range(0,n):\n",
    "        j=header_sim[i][1]\n",
    "        top_docs.append(j)\n",
    "    return top_docs"
   ]
  },
  {
   "cell_type": "code",
   "execution_count": 55,
   "metadata": {},
   "outputs": [],
   "source": [
    "def get_metric(tok_small, tok_big, model):\n",
    "    tot_sum=0\n",
    "    for t1 in tok_small:\n",
    "        rate=0\n",
    "        for t2 in tok_big:\n",
    "            rate=max(model.similarity(t1, t2),rate)\n",
    "        tot_sum+=rate\n",
    "    tot_sum=tot_sum/(len(tok_small))\n",
    "    return sum            "
   ]
  },
  {
   "cell_type": "code",
   "execution_count": 114,
   "metadata": {},
   "outputs": [],
   "source": [
    "def get_top_texts(init_text, data, top_docs, REtokenizer, stop_words, morpher, model, n=10):\n",
    "    tokens_lemmatized=prepare_text(init_text, REtokenizer, stop_words, morpher)\n",
    "    sim_list=[]\n",
    "    result=pd.DataFrame(index=range(0,n), columns=[\"Position\", \"Text\", \"File name\"])\n",
    "    result[\"Text\"]=result.Text.astype('str')\n",
    "    for i in top_docs:\n",
    "        doc_text=data.loc[i,\"Text\"]\n",
    "        cnt=0\n",
    "        for text in doc_text:\n",
    "            text_lemmatized=prepare_text(text, REtokenizer, stop_words, morpher)\n",
    "            if (len(tokens_lemmatized)==0 or len(text_lemmatized)==0):\n",
    "                continue\n",
    "            #sim=get_metric(tokens_lemmatized, text_lemmatized, model)\n",
    "            sim=model.n_similarity(tokens_lemmatized, text_lemmatized)\n",
    "            sim_list.append((sim,cnt,i))\n",
    "            cnt+=1\n",
    "    sim_list.sort(reverse=True)\n",
    "    if n>len(sim_list):\n",
    "        n=len(sim_list)\n",
    "    for i in range(0,n):\n",
    "        ind=sim_list[i][2]\n",
    "        text_ind=sim_list[i][1]\n",
    "        result.iloc[i,0]=data.loc[ind,\"Position\"]\n",
    "        result.iloc[i,1]+=(data.loc[ind,\"Text\"][text_ind]+'\\n')\n",
    "        result.iloc[i,2]=data.loc[ind,\"File name\"]\n",
    "    return result"
   ]
  },
  {
   "cell_type": "code",
   "execution_count": null,
   "metadata": {},
   "outputs": [],
   "source": []
  },
  {
   "cell_type": "code",
   "execution_count": 71,
   "metadata": {},
   "outputs": [],
   "source": [
    "top_docs=get_top_docs(hdr, all_data, tokenizer, stop_words, morph, md)"
   ]
  },
  {
   "cell_type": "code",
   "execution_count": 112,
   "metadata": {},
   "outputs": [],
   "source": [
    "result=get_top_texts(init_text, all_data, top_docs, tokenizer, stop_words, morph, md)"
   ]
  },
  {
   "cell_type": "code",
   "execution_count": 73,
   "metadata": {},
   "outputs": [],
   "source": [
    "dump_data=pd.DataFrame(index=result.index, columns=[\"id\", \"Position\", \"Text\", \"path\"])\n",
    "dump_data[\"id\"]=result.index.copy(deep=True)\n",
    "dump_data[\"Position\"]=result.Position.copy(deep=True)\n",
    "dump_data[\"path\"]=result[\"File name\"].copy(deep=True)\n",
    "dump_data[\"Text\"]=result[\"Text\"].copy(deep=True)\n",
    "dump_data.to_json(path_or_buf=\"./docs/\"+\"result_table.json\", orient='records')"
   ]
  },
  {
   "cell_type": "code",
   "execution_count": 113,
   "metadata": {},
   "outputs": [
    {
     "data": {
      "text/html": [
       "<div>\n",
       "<style scoped>\n",
       "    .dataframe tbody tr th:only-of-type {\n",
       "        vertical-align: middle;\n",
       "    }\n",
       "\n",
       "    .dataframe tbody tr th {\n",
       "        vertical-align: top;\n",
       "    }\n",
       "\n",
       "    .dataframe thead th {\n",
       "        text-align: right;\n",
       "    }\n",
       "</style>\n",
       "<table border=\"1\" class=\"dataframe\">\n",
       "  <thead>\n",
       "    <tr style=\"text-align: right;\">\n",
       "      <th></th>\n",
       "      <th>Position</th>\n",
       "      <th>Text</th>\n",
       "      <th>File name</th>\n",
       "    </tr>\n",
       "  </thead>\n",
       "  <tbody>\n",
       "    <tr>\n",
       "      <th>0</th>\n",
       "      <td>NaN</td>\n",
       "      <td>nan</td>\n",
       "      <td>NaN</td>\n",
       "    </tr>\n",
       "    <tr>\n",
       "      <th>1</th>\n",
       "      <td>NaN</td>\n",
       "      <td>nan</td>\n",
       "      <td>NaN</td>\n",
       "    </tr>\n",
       "    <tr>\n",
       "      <th>2</th>\n",
       "      <td>NaN</td>\n",
       "      <td>nan</td>\n",
       "      <td>NaN</td>\n",
       "    </tr>\n",
       "    <tr>\n",
       "      <th>3</th>\n",
       "      <td>NaN</td>\n",
       "      <td>nan</td>\n",
       "      <td>NaN</td>\n",
       "    </tr>\n",
       "    <tr>\n",
       "      <th>4</th>\n",
       "      <td>NaN</td>\n",
       "      <td>nan</td>\n",
       "      <td>NaN</td>\n",
       "    </tr>\n",
       "  </tbody>\n",
       "</table>\n",
       "</div>"
      ],
      "text/plain": [
       "  Position Text File name\n",
       "0      NaN  nan       NaN\n",
       "1      NaN  nan       NaN\n",
       "2      NaN  nan       NaN\n",
       "3      NaN  nan       NaN\n",
       "4      NaN  nan       NaN"
      ]
     },
     "execution_count": 113,
     "metadata": {},
     "output_type": "execute_result"
    }
   ],
   "source": [
    "result.head()"
   ]
  },
  {
   "cell_type": "code",
   "execution_count": null,
   "metadata": {},
   "outputs": [],
   "source": []
  }
 ],
 "metadata": {
  "kernelspec": {
   "display_name": "Python 3",
   "language": "python",
   "name": "python3"
  },
  "language_info": {
   "codemirror_mode": {
    "name": "ipython",
    "version": 3
   },
   "file_extension": ".py",
   "mimetype": "text/x-python",
   "name": "python",
   "nbconvert_exporter": "python",
   "pygments_lexer": "ipython3",
   "version": "3.7.6"
  }
 },
 "nbformat": 4,
 "nbformat_minor": 4
}
