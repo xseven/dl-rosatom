{
 "cells": [
  {
   "cell_type": "markdown",
   "metadata": {},
   "source": [
    "## Ввод датасета/нашей документации"
   ]
  },
  {
   "cell_type": "code",
   "execution_count": 1,
   "metadata": {},
   "outputs": [],
   "source": [
    "from striprtf.striprtf import rtf_to_text"
   ]
  },
  {
   "cell_type": "code",
   "execution_count": 2,
   "metadata": {},
   "outputs": [],
   "source": [
    "file=open('001.rtf', 'r')"
   ]
  },
  {
   "cell_type": "code",
   "execution_count": 3,
   "metadata": {},
   "outputs": [],
   "source": [
    "rtfdoc=file.read()"
   ]
  },
  {
   "cell_type": "code",
   "execution_count": 4,
   "metadata": {},
   "outputs": [],
   "source": [
    "document=rtf_to_text(rtfdoc)"
   ]
  },
  {
   "cell_type": "code",
   "execution_count": 5,
   "metadata": {},
   "outputs": [
    {
     "data": {
      "text/plain": [
       "'\\nНаименование документа|ИНСТРУКЦИЯ \"АГЕНТА КОММЕРЧЕСКОГО\"|\\nВид документа|ИНСТРУКЦИЯ|\\nДолжностная инструкция|АГЕНТ КОММЕРЧЕСКИЙ|\\nОглавление|ОБРАЗЕЦ ДОЛЖНОСТНОЙ ИНСТРУКЦИИ\\n     КОММЕРЧЕСКОЕ ПОСРЕДНИЧЕСТВО\\n          ТЕХНИЧЕСКИЕ ИСПОЛНИТЕЛИ|\\n\\n\\nКомментарии\\nТекст документа\\n\\nИНСТРУКЦИЯ\\n\\nАГЕНТА КОММЕРЧЕСКОГО\\n\\nДОЛЖНОСТНАЯ ИНСТРУКЦИЯ|УТВЕРЖДАЮ|\\n||\\n|(орган юридического лица (учредители);|\\n00.00.00  № 00|лицо, уполномоченное утверждать|\\nагента коммерческого|должностную инструкцию)|\\n||||\\n|(подпись)||(фамилия, инициалы)|\\n|00.00.00 г.|||\\n\\n\\nI. Общие положения\\n\\n1. Коммерческий агент относится к категории технических исполнителей.\\n2. На должность коммерческого агента назначается лицо, имеющее среднее профессиональное образование и специальная подготовка по установленной программе без предъявления требований к стажу работы.\\n3. Назначение на должность коммерческого агента и освобождение от нее производится приказом директора предприятия.\\n4. Коммерческий агент должен знать:\\n4.1. Нормативные правовые акты, положения, инструкции, другие руководящие материалы и документы, касающиеся ведения бизнеса.\\n4.2. Основы рыночной экономики.\\n4.3. Методы установления деловых контактов.\\n4.4. Порядок оформления документов, связанных с куплей-продажей товаров и заключением договоров, соглашений и контрактов на оказание услуг.\\n4.5. Основы трудового, финансового хозяйственного  и налогового законодательства.\\n4.6. Действующие формы учета и отчетности.\\n4.7. Организацию погрузочно-разгрузочных работ.\\n4.8. Условия хранения и транспортировки товаров.\\n4.9. Правила внутреннего трудового распорядка.\\n4.10. Правила и нормы охраны труда.\\n 4.11.||.|\\n\\n\\n5. Коммерческий агент подчиняется непосредственно ||.|\\n\\n6. На время отсутствия коммерческого агента (отпуск, болезнь, пр.) его обязанности исполняет лицо, назначенное в установленном порядке. Данное лицо приобретает соответствующие права и несет ответственность за надлежащее их исполнение.\\n 7.||.|\\n\\n\\nII. Должностные обязанности\\n\\nКоммерческий агент:\\n1. Участвует в работе по установлению необходимых деловых контактов между покупателями и продавцами товаров, включая техническую и другую продукцию (оборудование, сырье, полуфабрикаты и др.), а также оказанию различных коммерческих услуг.\\n2. Содействует покупке и продаже партий товаров (оптом), а также театральной, музыкальной и других видов творческой продукции (постановка представлений, выступление артистов, спортсменов, издание книг, запись музыкальных произведений и др.).\\n3. Обеспечивает надлежащее оформление заключаемых договоров и контрактов, других необходимых документов, в том числе страховых  и экспортных лицензий.\\n4. Выполняет необходимую техническую работу при заключении соглашений, договоров и контрактов, размещении рекламы в средствах массовой информации.\\n5. Организует предоставление транспортных средств и обеспечение выполнения других условий, предусмотренных заключенными соглашениями, договорами и контрактами, оказывает помощь в доставке товаров.\\n 6.||.|\\n\\n\\nIII. Права\\n\\nКоммерческий агент имеет право:\\n1. Знакомиться с проектами решений руководства предприятия, касающихся его деятельности.\\n2. Запрашивать лично или по поручению непосредственного руководителя от руководителей подразделений предприятия и специалистов информацию и документы, необходимые для выполнения его должностных обязанностей.\\n3. Вносить на рассмотрение руководства предложения по совершенствованию работы, связанной с предусмотренными настоящей инструкцией обязанностями.\\n4. В пределах своей компетенции сообщать своему непосредственному руководителю о всех выявленных в процессе своей деятельности недостатках и вносить предложения по их устранению.\\n5. Требовать от руководства предприятия оказания содействия в исполнении им его должностных обязанностей и прав.\\n 6.||.|\\n\\n\\nIV. Ответственность\\n\\nКоммерческий агент несет ответственность:\\n1. За ненадлежащее исполнение или неисполнение своих должностных обязанностей, предусмотренных настоящей должностной инструкцией - в пределах, определенных действующим трудовым законодательством Российской Федерации.\\n2. За правонарушения, совершенные в процессе осуществления своей деятельности - в пределах, определенных действующим административным, уголовным и гражданским законодательством Российской Федерации.\\n3. За причинение материального ущерба - в пределах, определенных действующим трудовым и гражданским законодательством Российской Федерации.\\n 4.||.|\\n\\n\\nДолжностная инструкция разработана в соответствии с  ||\\n\\n\\n|||||\\nРуководитель структурного подразделения |||||\\n||(подпись)||(фамилия, инициалы)|\\n||00.00.00|||\\n|||||\\nСОГЛАСОВАНО:|||||\\nНачальник юридического отдела|||||\\n|||||||\\n(подпись)||(фамилия,инициалы)|||||\\n00.00.00|||||||\\n|||||\\nС инструкцией ознакомлен:|||||\\n||(подпись)||(фамилия, инициалы)|\\n||00.00.00|||\\n\\n'"
      ]
     },
     "execution_count": 5,
     "metadata": {},
     "output_type": "execute_result"
    }
   ],
   "source": [
    "document"
   ]
  },
  {
   "cell_type": "markdown",
   "metadata": {},
   "source": [
    "## Готовим инструменты"
   ]
  },
  {
   "cell_type": "code",
   "execution_count": 6,
   "metadata": {},
   "outputs": [],
   "source": [
    "import re\n",
    "import logging\n",
    "\n",
    "import gensim.downloader as api\n",
    "import nltk\n",
    "from nltk.corpus import stopwords\n",
    "from nltk.stem.wordnet import WordNetLemmatizer\n",
    "from nltk.tokenize import RegexpTokenizer\n",
    "\n",
    "import pymorphy2\n",
    "\n",
    "#from nltk import pos_tag_sents\n",
    "#from nltk.tokenize import word_tokenize\n",
    "#nltk.download('punkt')\n",
    "#nltk_download('averaged_perceptron_tagger_ru')\n",
    "#nltk.download('universal_tagset')\n",
    "#pos_tag_sents(word_tokenize(\"настоящей должностной инструкцией\"), tagset='universal',lang='rus')"
   ]
  },
  {
   "cell_type": "code",
   "execution_count": 41,
   "metadata": {},
   "outputs": [],
   "source": []
  },
  {
   "cell_type": "markdown",
   "metadata": {},
   "source": [
    "## Подключаем gensim и загружаем векторную модель слов (уже готовую, model.model)"
   ]
  },
  {
   "cell_type": "code",
   "execution_count": 13,
   "metadata": {},
   "outputs": [],
   "source": [
    "import gensim"
   ]
  },
  {
   "cell_type": "code",
   "execution_count": 7,
   "metadata": {},
   "outputs": [],
   "source": [
    "logging.basicConfig(format=\"%(levelname)s - %(asctime)s: %(message)s\", datefmt= '%H:%M:%S', level=logging.INFO)"
   ]
  },
  {
   "cell_type": "code",
   "execution_count": 9,
   "metadata": {},
   "outputs": [],
   "source": [
    "api.BASE_DIR='C:\\\\Users\\\\Home\\\\gensim-data\\\\'"
   ]
  },
  {
   "cell_type": "code",
   "execution_count": 10,
   "metadata": {},
   "outputs": [
    {
     "data": {
      "text/plain": [
       "'C:\\\\Users\\\\Home\\\\gensim-data\\\\'"
      ]
     },
     "execution_count": 10,
     "metadata": {},
     "output_type": "execute_result"
    }
   ],
   "source": [
    "api.BASE_DIR"
   ]
  },
  {
   "cell_type": "code",
   "execution_count": 11,
   "metadata": {},
   "outputs": [],
   "source": [
    "#model=api.load(\"word2vec-ruscorpora-300\")"
   ]
  },
  {
   "cell_type": "code",
   "execution_count": 15,
   "metadata": {},
   "outputs": [
    {
     "name": "stderr",
     "output_type": "stream",
     "text": [
      "INFO - 13:58:52: loading Word2VecKeyedVectors object from C:\\Users\\Home\\gensim-data\\model.model\n",
      "INFO - 13:58:52: loading vectors from C:\\Users\\Home\\gensim-data\\model.model.vectors.npy with mmap=None\n",
      "INFO - 13:58:53: loading vectors_ngrams from C:\\Users\\Home\\gensim-data\\model.model.vectors_ngrams.npy with mmap=None\n",
      "INFO - 13:58:59: loading vectors_vocab from C:\\Users\\Home\\gensim-data\\model.model.vectors_vocab.npy with mmap=None\n",
      "INFO - 13:58:59: setting ignored attribute vectors_ngrams_norm to None\n",
      "INFO - 13:58:59: setting ignored attribute vectors_norm to None\n",
      "INFO - 13:58:59: setting ignored attribute buckets_word to None\n",
      "INFO - 13:58:59: setting ignored attribute vectors_vocab_norm to None\n",
      "INFO - 13:58:59: loaded C:\\Users\\Home\\gensim-data\\model.model\n"
     ]
    }
   ],
   "source": [
    "md=gensim.models.KeyedVectors.load(\"C:\\\\Users\\\\Home\\\\gensim-data\\\\model.model\") #C:\\\\Users\\\\Home\\\\gensim-data\\\\model.model"
   ]
  },
  {
   "cell_type": "code",
   "execution_count": 21,
   "metadata": {},
   "outputs": [
    {
     "data": {
      "text/plain": [
       "[('бухгалтерский', 0.7341619729995728),\n",
       " ('главноуправляющий', 0.697599470615387),\n",
       " ('-главный', 0.6931504011154175),\n",
       " ('.главный', 0.6719357371330261),\n",
       " ('неглавный', 0.6708090305328369),\n",
       " ('главбух', 0.6618990302085876),\n",
       " ('бухгалтерско', 0.6565037965774536),\n",
       " (',главный', 0.6553462743759155),\n",
       " ('главбухша', 0.6491634845733643),\n",
       " ('менеджерский', 0.6470004916191101),\n",
       " ('бухгалтерия', 0.6442776918411255),\n",
       " ('-администратор', 0.6385512351989746),\n",
       " ('наиглавный', 0.6352169513702393),\n",
       " ('офис-менеджер', 0.6255849599838257),\n",
       " ('глав-ный', 0.6252533197402954)]"
      ]
     },
     "execution_count": 21,
     "metadata": {},
     "output_type": "execute_result"
    }
   ],
   "source": [
    "md.most_similar(positive=['главный', 'бухгалтер'], topn=15)"
   ]
  },
  {
   "cell_type": "markdown",
   "metadata": {},
   "source": [
    "## Получаем входной текст и предобрабатываем его: леммтизация, токенизация, выкидывание стоп-слов, частых/редких слов"
   ]
  },
  {
   "cell_type": "code",
   "execution_count": 46,
   "metadata": {},
   "outputs": [],
   "source": [
    "init_text=\"Продажи и покупки, оформление документов, оформление договоров.\""
   ]
  },
  {
   "cell_type": "code",
   "execution_count": 42,
   "metadata": {},
   "outputs": [],
   "source": [
    "stop_words = stopwords.words('russian')"
   ]
  },
  {
   "cell_type": "code",
   "execution_count": 47,
   "metadata": {},
   "outputs": [],
   "source": [
    "init_text=init_text.lower()"
   ]
  },
  {
   "cell_type": "markdown",
   "metadata": {},
   "source": [
    "### Разбиваем текст на отдельные токены (здесь, по сути, на слова)"
   ]
  },
  {
   "cell_type": "code",
   "execution_count": null,
   "metadata": {},
   "outputs": [],
   "source": [
    "tokenizer = RegexpTokenizer('\\w+|[^\\w\\s]+\\.') # с паттернами сложно, надо отрегулировать #'\\w+|[^\\w\\s]+'"
   ]
  },
  {
   "cell_type": "code",
   "execution_count": 48,
   "metadata": {},
   "outputs": [],
   "source": [
    "tokens=tokenizer.tokenize(init_text)"
   ]
  },
  {
   "cell_type": "code",
   "execution_count": 51,
   "metadata": {},
   "outputs": [
    {
     "data": {
      "text/plain": [
       "['продажи',\n",
       " 'и',\n",
       " 'покупки',\n",
       " 'оформление',\n",
       " 'документов',\n",
       " 'оформление',\n",
       " 'договоров']"
      ]
     },
     "execution_count": 51,
     "metadata": {},
     "output_type": "execute_result"
    }
   ],
   "source": [
    "tokens"
   ]
  },
  {
   "cell_type": "markdown",
   "metadata": {},
   "source": [
    "### Выкидываем слова, не несущие смысловой нагрузки (\"стоп-слова\")"
   ]
  },
  {
   "cell_type": "code",
   "execution_count": 52,
   "metadata": {},
   "outputs": [],
   "source": [
    "tokens_clear=[]\n",
    "for t in tokens:\n",
    "    if t in stop_words:\n",
    "        continue\n",
    "    tokens_clear.append(t)"
   ]
  },
  {
   "cell_type": "code",
   "execution_count": 53,
   "metadata": {},
   "outputs": [
    {
     "data": {
      "text/plain": [
       "['продажи', 'покупки', 'оформление', 'документов', 'оформление', 'договоров']"
      ]
     },
     "execution_count": 53,
     "metadata": {},
     "output_type": "execute_result"
    }
   ],
   "source": [
    "tokens_clear"
   ]
  },
  {
   "cell_type": "markdown",
   "metadata": {},
   "source": [
    "### Лемматизируем (берем начальную форму)"
   ]
  },
  {
   "cell_type": "code",
   "execution_count": null,
   "metadata": {},
   "outputs": [],
   "source": [
    "morph = pymorphy2.MorphAnalyzer()"
   ]
  },
  {
   "cell_type": "code",
   "execution_count": 54,
   "metadata": {},
   "outputs": [],
   "source": [
    "tokens_lemmatized=[]\n",
    "for t in tokens_clear:\n",
    "    p = morph.parse(t)[0]\n",
    "    p=p.normal_form\n",
    "    tokens_lemmatized.append(p)"
   ]
  },
  {
   "cell_type": "code",
   "execution_count": 55,
   "metadata": {},
   "outputs": [
    {
     "data": {
      "text/plain": [
       "['продажа', 'покупка', 'оформление', 'документ', 'оформление', 'договор']"
      ]
     },
     "execution_count": 55,
     "metadata": {},
     "output_type": "execute_result"
    }
   ],
   "source": [
    "tokens_lemmatized"
   ]
  },
  {
   "cell_type": "markdown",
   "metadata": {},
   "source": [
    "### Строго говоря, есть подводные камни (например, \"оформление\" - > \"оформлять\"?), но это уже тонкая настройка"
   ]
  },
  {
   "cell_type": "markdown",
   "metadata": {},
   "source": [
    "### Получили обработанный вводный текст\n",
    "\n",
    "### Оформим в виде функции"
   ]
  },
  {
   "cell_type": "code",
   "execution_count": 56,
   "metadata": {},
   "outputs": [],
   "source": [
    "def prepare_text(init_text, tokenizer=tokenizer, stop_words=stop_words, morpher=morph):\n",
    "    init_text=init_text.lower()\n",
    "    tokens=tokenizer.tokenize(init_text)\n",
    "    tokens_clear=[]\n",
    "    for t in tokens:\n",
    "        if t in stop_words:\n",
    "            continue\n",
    "        tokens_clear.append(t)\n",
    "    tokens_lemmatized=[]\n",
    "    for t in tokens_clear:\n",
    "        p = morph.parse(t)[0]\n",
    "        p=p.normal_form\n",
    "        tokens_lemmatized.append(p)\n",
    "    return tokens_lemmatized"
   ]
  },
  {
   "cell_type": "markdown",
   "metadata": {},
   "source": [
    "## Далее следует ввод данных из датасета. Пока это символические несколько параграфов (\"коммерческий агент\"-2, \"диспетчер\", \"зуботехник\", \"генеральный директор\"-2, \"заведующий ветклиникой\", \"заведующий рынком\")"
   ]
  },
  {
   "cell_type": "code",
   "execution_count": 58,
   "metadata": {},
   "outputs": [],
   "source": [
    "data_text=[\"1. Участвует в работе по установлению необходимых деловых контактов между покупателями и продавцами товаров, включая техническую и другую продукцию (оборудование, сырье, полуфабрикаты и др.), а также оказанию различных коммерческих услуг.\",\n",
    "          \"2. Содействует покупке и продаже партий товаров (оптом), а также театральной, музыкальной и других видов творческой продукции (постановка представлений, выступление артистов, спортсменов, издание книг, запись музыкальных произведений и др.).\",\n",
    "          \"4.13. Основы конструкции современной зуботехнической аппаратуры для обжига фарфора, муфельных печей, литейной аппаратуры, устройств ультразвуковых и для светоотверждения и др..\",\n",
    "          \"2. Принимает меры по максимальному использованию производственных мощностей предприятия, содействуя рациональной загрузке оборудования, повышению коэффициента сменности, созданию условий для эффективной работы персонала.\",\n",
    "          \"4.Организует производственно-хозяйственную деятельность на основе широкого использования новейшей техники и технологии, прогрессивных форм управления и организации труда, научно-обоснованных нормативов материальных, финансовых и трудовых затрат, изучения конъюнктуры рынка и передового опыта (отечественного и зарубежного) в целях всемерного повышения технического уровня и качества продукции (услуг), экономической эффективности ее производства, рационального использования производственных резервов и экономного расходования всех видов ресурсов.\",\n",
    "          \"2.Организует работу и эффективное взаимодействие всех структурных подразделений, цехов и производственных единиц, направляет их деятельность на развитие и совершенствование производства с учетом социальных и рыночных приоритетов, повышение эффективности работы предприятия, рост объемов сбыта продукции и увеличение прибыли, качества и конкурентноспособности производимой продукции, ее соответствие мировым стандартам в целях завоевания отечественного и зарубежного рынка и удовлетворения потребностей населения в соответствующих видах отечественной продукции.\",\n",
    "          \"3. Доводит до сведения потребителей информацию об оказываемых ветеринарных услугах (их перечень и формы предоставления; прейскуранты на ветеринарные услуги, утвержденные органом исполнительной власти субъекта Российской Федерации, с указанием номера и даты утверждения; лицензию; образцы препаратов, лекарственных средств и др.; средства ветеринарного назначения, применяемые при оказании платных ветеринарных услуг; нормативные документы по вопросам ветеринарного обслуживания животных; пр.).\",\n",
    "          \"6. Обеспечивает наличие на рынке указателей торговых зон по специализации; стендов с указанием схемы размещения торговых зон, предприятий общественного питания и сервисного обслуживания, административных помещений, автостоянки, складских помещений, лабораторий и других объектов; информационного стенда, на котором вывешиваются основные нормативно-правовые, нормативно-технические документы, регламентирующие порядок осуществления торговой деятельности на рынке.\",\n",
    "          ]"
   ]
  },
  {
   "cell_type": "markdown",
   "metadata": {},
   "source": [
    "## На этом этапе нам нужна автоматическая разбивка текста на параграфы, ну и, в целом, разметка"
   ]
  },
  {
   "cell_type": "code",
   "execution_count": 59,
   "metadata": {},
   "outputs": [
    {
     "data": {
      "text/plain": [
       "8"
      ]
     },
     "execution_count": 59,
     "metadata": {},
     "output_type": "execute_result"
    }
   ],
   "source": [
    "len(data_text)"
   ]
  },
  {
   "cell_type": "markdown",
   "metadata": {},
   "source": [
    "## Итерируемся по параграфам нашего датасета и сравниваем их сс нашим входным текстом"
   ]
  },
  {
   "cell_type": "markdown",
   "metadata": {},
   "source": [
    "### Каждый фрагмент (параграф) подвергнем предобработке"
   ]
  },
  {
   "cell_type": "code",
   "execution_count": 64,
   "metadata": {},
   "outputs": [],
   "source": [
    "doc=prepare_text(data_text[0])"
   ]
  },
  {
   "cell_type": "code",
   "execution_count": 65,
   "metadata": {},
   "outputs": [
    {
     "data": {
      "text/plain": [
       "['1',\n",
       " 'участвовать',\n",
       " 'работа',\n",
       " 'установление',\n",
       " 'необходимый',\n",
       " 'деловой',\n",
       " 'контакт',\n",
       " 'покупатель',\n",
       " 'продавец',\n",
       " 'товар',\n",
       " 'включая',\n",
       " 'технический',\n",
       " 'другой',\n",
       " 'продукция',\n",
       " 'оборудование',\n",
       " 'сырьё',\n",
       " 'полуфабрикат',\n",
       " 'др',\n",
       " 'также',\n",
       " 'оказание',\n",
       " 'различный',\n",
       " 'коммерческий',\n",
       " 'услуга']"
      ]
     },
     "execution_count": 65,
     "metadata": {},
     "output_type": "execute_result"
    }
   ],
   "source": [
    "doc"
   ]
  },
  {
   "cell_type": "markdown",
   "metadata": {},
   "source": [
    "### Сравниваем с нашим входным текстом, и используя метрику сравнения, выясняем, какой параграф подходит больше. Или для какого из них метрика выше порога (достаточно похож на то, что просит пользователь, чтобы показать пользователю это фрагмент)"
   ]
  },
  {
   "cell_type": "code",
   "execution_count": 66,
   "metadata": {},
   "outputs": [],
   "source": [
    "# Вообще говоря, еще можно обогатить текст биграммами, и использовать это тоже"
   ]
  },
  {
   "cell_type": "code",
   "execution_count": null,
   "metadata": {},
   "outputs": [],
   "source": [
    "# Не факт, что здесь стоит выкидывать слишком частые слова; это документация, и если слово \"продажа\", наример, встречается очень часто, возможно, в этом есть смысл"
   ]
  },
  {
   "cell_type": "code",
   "execution_count": 84,
   "metadata": {},
   "outputs": [
    {
     "name": "stderr",
     "output_type": "stream",
     "text": [
      "INFO - 16:53:08: adding document #0 to Dictionary(0 unique tokens: [])\n",
      "INFO - 16:53:08: built Dictionary(28 unique tokens: ['договор', 'документ', 'оформление', 'покупка', 'продажа']...) from 2 documents (total 29 corpus positions)\n"
     ]
    },
    {
     "data": {
      "text/plain": [
       "36.19322080863062"
      ]
     },
     "execution_count": 84,
     "metadata": {},
     "output_type": "execute_result"
    }
   ],
   "source": [
    "md.wmdistance(tokens_lemmatized, doc)"
   ]
  },
  {
   "cell_type": "code",
   "execution_count": 83,
   "metadata": {},
   "outputs": [
    {
     "data": {
      "text/plain": [
       "0.75448143"
      ]
     },
     "execution_count": 83,
     "metadata": {},
     "output_type": "execute_result"
    }
   ],
   "source": [
    "md.n_similarity(tokens_lemmatized, doc)"
   ]
  },
  {
   "cell_type": "code",
   "execution_count": 70,
   "metadata": {},
   "outputs": [],
   "source": [
    "# здесь нужен pyemd.... установил"
   ]
  },
  {
   "cell_type": "code",
   "execution_count": 69,
   "metadata": {},
   "outputs": [
    {
     "data": {
      "text/plain": [
       "36.19322080863062"
      ]
     },
     "execution_count": 69,
     "metadata": {},
     "output_type": "execute_result"
    }
   ],
   "source": [
    "similarity"
   ]
  },
  {
   "cell_type": "code",
   "execution_count": 85,
   "metadata": {},
   "outputs": [],
   "source": [
    "doc1=prepare_text(data_text[7])"
   ]
  },
  {
   "cell_type": "code",
   "execution_count": 78,
   "metadata": {},
   "outputs": [
    {
     "name": "stderr",
     "output_type": "stream",
     "text": [
      "INFO - 16:42:49: adding document #0 to Dictionary(0 unique tokens: [])\n",
      "INFO - 16:42:49: built Dictionary(44 unique tokens: ['договор', 'документ', 'оформление', 'покупка', 'продажа']...) from 2 documents (total 53 corpus positions)\n"
     ]
    },
    {
     "data": {
      "text/plain": [
       "38.05926513326128"
      ]
     },
     "execution_count": 78,
     "metadata": {},
     "output_type": "execute_result"
    }
   ],
   "source": [
    "md.wmdistance(tokens_lemmatized, doc1)"
   ]
  },
  {
   "cell_type": "code",
   "execution_count": 86,
   "metadata": {},
   "outputs": [
    {
     "data": {
      "text/plain": [
       "0.7142247"
      ]
     },
     "execution_count": 86,
     "metadata": {},
     "output_type": "execute_result"
    }
   ],
   "source": [
    "md.n_similarity(tokens_lemmatized, doc1)"
   ]
  },
  {
   "cell_type": "code",
   "execution_count": 103,
   "metadata": {},
   "outputs": [],
   "source": [
    "similarities=[]\n",
    "indicies=[]\n",
    "#rates=dict()\n",
    "sim_ind=[]\n",
    "cnt=0\n",
    "for text in data_text:\n",
    "    doc=prepare_text(text)\n",
    "    sim=md.n_similarity(tokens_lemmatized, doc)\n",
    "    #rates[sim]=cnt\n",
    "    sim_ind.append((sim,cnt))\n",
    "    similarities.append(sim)\n",
    "    indicies.append(cnt)\n",
    "    cnt+=1"
   ]
  },
  {
   "cell_type": "code",
   "execution_count": 112,
   "metadata": {},
   "outputs": [],
   "source": [
    "sim_ind.sort(reverse=True)"
   ]
  },
  {
   "cell_type": "code",
   "execution_count": 113,
   "metadata": {},
   "outputs": [
    {
     "data": {
      "text/plain": [
       "[(0.75448143, 0),\n",
       " (0.72706914, 6),\n",
       " (0.7142247, 7),\n",
       " (0.7095247, 1),\n",
       " (0.6640805, 5),\n",
       " (0.63561535, 4),\n",
       " (0.6314969, 3),\n",
       " (0.44560254, 2)]"
      ]
     },
     "execution_count": 113,
     "metadata": {},
     "output_type": "execute_result"
    }
   ],
   "source": [
    "sim_ind"
   ]
  },
  {
   "cell_type": "code",
   "execution_count": 116,
   "metadata": {},
   "outputs": [],
   "source": [
    "n=3\n",
    "top_docs=[]\n",
    "for i in range(0,n):\n",
    "    top_docs.append(data_text[i])"
   ]
  },
  {
   "cell_type": "code",
   "execution_count": 117,
   "metadata": {},
   "outputs": [
    {
     "data": {
      "text/plain": [
       "['1. Участвует в работе по установлению необходимых деловых контактов между покупателями и продавцами товаров, включая техническую и другую продукцию (оборудование, сырье, полуфабрикаты и др.), а также оказанию различных коммерческих услуг.',\n",
       " '2. Содействует покупке и продаже партий товаров (оптом), а также театральной, музыкальной и других видов творческой продукции (постановка представлений, выступление артистов, спортсменов, издание книг, запись музыкальных произведений и др.).',\n",
       " '4.13. Основы конструкции современной зуботехнической аппаратуры для обжига фарфора, муфельных печей, литейной аппаратуры, устройств ультразвуковых и для светоотверждения и др..']"
      ]
     },
     "execution_count": 117,
     "metadata": {},
     "output_type": "execute_result"
    }
   ],
   "source": [
    "top_docs"
   ]
  },
  {
   "cell_type": "markdown",
   "metadata": {},
   "source": [
    "### Оформим это в функцию"
   ]
  },
  {
   "cell_type": "code",
   "execution_count": 120,
   "metadata": {},
   "outputs": [],
   "source": [
    "def get_top_docs(init_text, data_text, model=md, n=3):\n",
    "    tokens_lemmatized=prepare_text(init_text)\n",
    "    sim_ind=[]\n",
    "    cnt=0\n",
    "    for text in data_text:\n",
    "        doc=prepare_text(text)\n",
    "        sim=md.n_similarity(tokens_lemmatized, doc)\n",
    "        sim_ind.append((sim,cnt))\n",
    "        cnt+=1\n",
    "    sim_ind.sort(reverse=True)\n",
    "    top_docs=[]\n",
    "    for i in range(0,n):\n",
    "        top_docs.append(data_text[i])\n",
    "    return top_docs"
   ]
  },
  {
   "cell_type": "code",
   "execution_count": 128,
   "metadata": {},
   "outputs": [],
   "source": [
    "docs=get_top_docs(\"взаимодействие с клиентами, оформление договоров, расчет затрат\", data_text)"
   ]
  },
  {
   "cell_type": "code",
   "execution_count": 129,
   "metadata": {},
   "outputs": [
    {
     "data": {
      "text/plain": [
       "['1. Участвует в работе по установлению необходимых деловых контактов между покупателями и продавцами товаров, включая техническую и другую продукцию (оборудование, сырье, полуфабрикаты и др.), а также оказанию различных коммерческих услуг.',\n",
       " '2. Содействует покупке и продаже партий товаров (оптом), а также театральной, музыкальной и других видов творческой продукции (постановка представлений, выступление артистов, спортсменов, издание книг, запись музыкальных произведений и др.).',\n",
       " '4.13. Основы конструкции современной зуботехнической аппаратуры для обжига фарфора, муфельных печей, литейной аппаратуры, устройств ультразвуковых и для светоотверждения и др..']"
      ]
     },
     "execution_count": 129,
     "metadata": {},
     "output_type": "execute_result"
    }
   ],
   "source": [
    "docs"
   ]
  },
  {
   "cell_type": "markdown",
   "metadata": {},
   "source": [
    "## Резюме: - удалять цифры из начала абзаца; - сохранять заголовки к должностным инструкциям (можно использовать для оценки качества модели)"
   ]
  },
  {
   "cell_type": "code",
   "execution_count": null,
   "metadata": {},
   "outputs": [],
   "source": []
  }
 ],
 "metadata": {
  "kernelspec": {
   "display_name": "Python 3",
   "language": "python",
   "name": "python3"
  },
  "language_info": {
   "codemirror_mode": {
    "name": "ipython",
    "version": 3
   },
   "file_extension": ".py",
   "mimetype": "text/x-python",
   "name": "python",
   "nbconvert_exporter": "python",
   "pygments_lexer": "ipython3",
   "version": "3.7.6"
  }
 },
 "nbformat": 4,
 "nbformat_minor": 4
}
